{
 "cells": [
  {
   "cell_type": "code",
   "execution_count": 1,
   "metadata": {},
   "outputs": [],
   "source": [
    "from sklearn.base import BaseEstimator,TransformerMixin\n",
    "import numpy as np\n",
    "import pandas as pd\n"
   ]
  },
  {
   "cell_type": "code",
   "execution_count": 2,
   "metadata": {},
   "outputs": [],
   "source": [
    "\n",
    "class Clean_and_Merge_Target(BaseEstimator,TransformerMixin):\n",
    "    def __init__(self):\n",
    "        pass\n",
    "    def fit(self,df,y=None):\n",
    "        return self\n",
    "    \n",
    "    def transform(self,df,y=None):\n",
    "        target_attribute=['overall_rating']\n",
    "        df.dropna(thresh=10,inplace=True)\n",
    "\n",
    "        player_id=df['player_fifa_api_id'].unique()\n",
    "        new_df=pd.DataFrame()\n",
    "        for i in player_id:\n",
    "            index=np.where(df['player_fifa_api_id']==i)[0]\n",
    "\n",
    "            temp_num=df.iloc[index][target_attribute].mean()\n",
    "            temp_df=pd.DataFrame(data=[temp_num.values],columns=temp_num.index)\n",
    "            new_df=pd.concat([new_df,temp_df],ignore_index=True)\n",
    "\n",
    "        return new_df.reset_index(drop=True)"
   ]
  },
  {
   "cell_type": "code",
   "execution_count": null,
   "metadata": {},
   "outputs": [],
   "source": []
  }
 ],
 "metadata": {
  "kernelspec": {
   "display_name": "Python 3",
   "language": "python",
   "name": "python3"
  },
  "language_info": {
   "codemirror_mode": {
    "name": "ipython",
    "version": 3
   },
   "file_extension": ".py",
   "mimetype": "text/x-python",
   "name": "python",
   "nbconvert_exporter": "python",
   "pygments_lexer": "ipython3",
   "version": "3.12.4"
  }
 },
 "nbformat": 4,
 "nbformat_minor": 2
}
