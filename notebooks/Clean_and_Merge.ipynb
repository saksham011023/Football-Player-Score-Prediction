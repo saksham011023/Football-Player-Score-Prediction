{
 "cells": [
  {
   "cell_type": "code",
   "execution_count": 1,
   "metadata": {},
   "outputs": [],
   "source": [
    "from sklearn.base import TransformerMixin,BaseEstimator\n",
    "import numpy as np\n",
    "import pandas as pd"
   ]
  },
  {
   "cell_type": "code",
   "execution_count": 2,
   "metadata": {},
   "outputs": [],
   "source": [
    "\n",
    "class Clean_and_Merge(BaseEstimator,TransformerMixin):\n",
    "    def __init__(self):\n",
    "        pass\n",
    "    def fit(self,df,y=None):\n",
    "        return self\n",
    "\n",
    "    def transform(self,df,y=None):\n",
    "        categorical_attributes = ['preferred_foot', 'attacking_work_rate', 'defensive_work_rate']\n",
    "\n",
    "        numercial_attributes = ['potential', 'crossing', 'finishing', 'heading_accuracy',\n",
    "            'short_passing', 'volleys', 'dribbling', 'curve', 'free_kick_accuracy',\n",
    "            'long_passing', 'ball_control', 'acceleration', 'sprint_speed',\n",
    "            'agility', 'reactions', 'balance', 'shot_power', 'jumping', 'stamina',\n",
    "            'strength', 'long_shots', 'aggression', 'interceptions', 'positioning',\n",
    "            'vision', 'penalties', 'marking', 'standing_tackle', 'sliding_tackle',\n",
    "            'gk_diving', 'gk_handling', 'gk_kicking', 'gk_positioning',\n",
    "            'gk_reflexes']\n",
    "        df[numercial_attributes] = df[numercial_attributes].apply(pd.to_numeric, errors='coerce')\n",
    "\n",
    "        player_id=df['player_fifa_api_id'].unique()\n",
    "        new_df=pd.DataFrame()\n",
    "\n",
    "        for i in player_id:\n",
    "            index=np.where(df['player_fifa_api_id']==i)[0]\n",
    "            temp_num=df.iloc[index][numercial_attributes].mean()\n",
    "            temp_cat=df.iloc[index][categorical_attributes].mode().iloc[0]\n",
    "\n",
    "            temp_df=pd.DataFrame(data=[temp_num.values],columns=temp_num.index)\n",
    "            temp_df[temp_cat.index]=temp_cat.values\n",
    "\n",
    "            new_df=pd.concat([new_df,temp_df],ignore_index=True)\n",
    "\n",
    "        to_drop=['norm','y','le','stoc']#these arre the unwanted values in the attak_work_rate and defense_work_rate\n",
    "        #hence we need to clean it.\n",
    "        #replace each value in the list with the nan value for whole dataset.\n",
    "        for i in to_drop:\n",
    "            new_df['attacking_work_rate'].replace(i,np.nan,inplace=True)\n",
    "            \n",
    "        to_drop = ['ormal', 'ean', 'es', 'tocky', '_0', 'o']\n",
    "        for i in to_drop:\n",
    "            new_df['defensive_work_rate'].replace(i,np.nan,inplace=True)\n",
    "\n",
    "        low_class=['0','1','2']\n",
    "        medium_class=['3','4','5','6']\n",
    "        high_class=['7','8','9']\n",
    "\n",
    "        for i in low_class:\n",
    "            new_df['defensive_work_rate'].replace(i,'low',inplace=True)\n",
    "\n",
    "        for i in medium_class:\n",
    "            new_df['defensive_work_rate'].replace(i,'medium',inplace=True)\n",
    "\n",
    "        for i in high_class:\n",
    "            new_df['defensive_work_rate'].replace(i,'high',inplace=True)\n",
    "\n",
    "\n",
    "        return new_df.reset_index(drop=True)"
   ]
  },
  {
   "cell_type": "code",
   "execution_count": null,
   "metadata": {},
   "outputs": [],
   "source": []
  }
 ],
 "metadata": {
  "kernelspec": {
   "display_name": "Python 3",
   "language": "python",
   "name": "python3"
  },
  "language_info": {
   "codemirror_mode": {
    "name": "ipython",
    "version": 3
   },
   "file_extension": ".py",
   "mimetype": "text/x-python",
   "name": "python",
   "nbconvert_exporter": "python",
   "pygments_lexer": "ipython3",
   "version": "3.12.4"
  }
 },
 "nbformat": 4,
 "nbformat_minor": 2
}
