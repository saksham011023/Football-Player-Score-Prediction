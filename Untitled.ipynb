{
 "cells": [
  {
   "cell_type": "code",
   "execution_count": 1,
   "id": "e2c76162-4a98-4928-bb2f-2cc3a6a1c083",
   "metadata": {},
   "outputs": [],
   "source": [
    "import sqlite3\n",
    "import pandas as pd\n",
    "import numpy as np\n",
    "from sklearn.tree import DecisionTreeRegressor\n",
    "from sklearn.linear_model import LinearRegression\n",
    "from sklearn.model_selection import train_test_split\n",
    "from sklearn.metrics import mean_squared_error,mean_absolute_error\n",
    "from math import sqrt\n",
    "from datetime import datetime"
   ]
  },
  {
   "cell_type": "code",
   "execution_count": 2,
   "id": "84cafed4-2b3d-4c54-8063-6555ea7ccee7",
   "metadata": {},
   "outputs": [
    {
     "data": {
      "text/html": [
       "<div>\n",
       "<style scoped>\n",
       "    .dataframe tbody tr th:only-of-type {\n",
       "        vertical-align: middle;\n",
       "    }\n",
       "\n",
       "    .dataframe tbody tr th {\n",
       "        vertical-align: top;\n",
       "    }\n",
       "\n",
       "    .dataframe thead th {\n",
       "        text-align: right;\n",
       "    }\n",
       "</style>\n",
       "<table border=\"1\" class=\"dataframe\">\n",
       "  <thead>\n",
       "    <tr style=\"text-align: right;\">\n",
       "      <th></th>\n",
       "      <th>id</th>\n",
       "      <th>player_fifa_api_id</th>\n",
       "      <th>player_api_id</th>\n",
       "      <th>date</th>\n",
       "      <th>overall_rating</th>\n",
       "      <th>potential</th>\n",
       "      <th>preferred_foot</th>\n",
       "      <th>attacking_work_rate</th>\n",
       "      <th>defensive_work_rate</th>\n",
       "      <th>crossing</th>\n",
       "      <th>...</th>\n",
       "      <th>vision</th>\n",
       "      <th>penalties</th>\n",
       "      <th>marking</th>\n",
       "      <th>standing_tackle</th>\n",
       "      <th>sliding_tackle</th>\n",
       "      <th>gk_diving</th>\n",
       "      <th>gk_handling</th>\n",
       "      <th>gk_kicking</th>\n",
       "      <th>gk_positioning</th>\n",
       "      <th>gk_reflexes</th>\n",
       "    </tr>\n",
       "  </thead>\n",
       "  <tbody>\n",
       "    <tr>\n",
       "      <th>0</th>\n",
       "      <td>1</td>\n",
       "      <td>218353</td>\n",
       "      <td>505942</td>\n",
       "      <td>2016-02-18 00:00:00</td>\n",
       "      <td>67.0</td>\n",
       "      <td>71.0</td>\n",
       "      <td>right</td>\n",
       "      <td>medium</td>\n",
       "      <td>medium</td>\n",
       "      <td>49.0</td>\n",
       "      <td>...</td>\n",
       "      <td>54.0</td>\n",
       "      <td>48.0</td>\n",
       "      <td>65.0</td>\n",
       "      <td>69.0</td>\n",
       "      <td>69.0</td>\n",
       "      <td>6.0</td>\n",
       "      <td>11.0</td>\n",
       "      <td>10.0</td>\n",
       "      <td>8.0</td>\n",
       "      <td>8.0</td>\n",
       "    </tr>\n",
       "    <tr>\n",
       "      <th>1</th>\n",
       "      <td>2</td>\n",
       "      <td>218353</td>\n",
       "      <td>505942</td>\n",
       "      <td>2015-11-19 00:00:00</td>\n",
       "      <td>67.0</td>\n",
       "      <td>71.0</td>\n",
       "      <td>right</td>\n",
       "      <td>medium</td>\n",
       "      <td>medium</td>\n",
       "      <td>49.0</td>\n",
       "      <td>...</td>\n",
       "      <td>54.0</td>\n",
       "      <td>48.0</td>\n",
       "      <td>65.0</td>\n",
       "      <td>69.0</td>\n",
       "      <td>69.0</td>\n",
       "      <td>6.0</td>\n",
       "      <td>11.0</td>\n",
       "      <td>10.0</td>\n",
       "      <td>8.0</td>\n",
       "      <td>8.0</td>\n",
       "    </tr>\n",
       "    <tr>\n",
       "      <th>2</th>\n",
       "      <td>3</td>\n",
       "      <td>218353</td>\n",
       "      <td>505942</td>\n",
       "      <td>2015-09-21 00:00:00</td>\n",
       "      <td>62.0</td>\n",
       "      <td>66.0</td>\n",
       "      <td>right</td>\n",
       "      <td>medium</td>\n",
       "      <td>medium</td>\n",
       "      <td>49.0</td>\n",
       "      <td>...</td>\n",
       "      <td>54.0</td>\n",
       "      <td>48.0</td>\n",
       "      <td>65.0</td>\n",
       "      <td>66.0</td>\n",
       "      <td>69.0</td>\n",
       "      <td>6.0</td>\n",
       "      <td>11.0</td>\n",
       "      <td>10.0</td>\n",
       "      <td>8.0</td>\n",
       "      <td>8.0</td>\n",
       "    </tr>\n",
       "    <tr>\n",
       "      <th>3</th>\n",
       "      <td>4</td>\n",
       "      <td>218353</td>\n",
       "      <td>505942</td>\n",
       "      <td>2015-03-20 00:00:00</td>\n",
       "      <td>61.0</td>\n",
       "      <td>65.0</td>\n",
       "      <td>right</td>\n",
       "      <td>medium</td>\n",
       "      <td>medium</td>\n",
       "      <td>48.0</td>\n",
       "      <td>...</td>\n",
       "      <td>53.0</td>\n",
       "      <td>47.0</td>\n",
       "      <td>62.0</td>\n",
       "      <td>63.0</td>\n",
       "      <td>66.0</td>\n",
       "      <td>5.0</td>\n",
       "      <td>10.0</td>\n",
       "      <td>9.0</td>\n",
       "      <td>7.0</td>\n",
       "      <td>7.0</td>\n",
       "    </tr>\n",
       "    <tr>\n",
       "      <th>4</th>\n",
       "      <td>5</td>\n",
       "      <td>218353</td>\n",
       "      <td>505942</td>\n",
       "      <td>2007-02-22 00:00:00</td>\n",
       "      <td>61.0</td>\n",
       "      <td>65.0</td>\n",
       "      <td>right</td>\n",
       "      <td>medium</td>\n",
       "      <td>medium</td>\n",
       "      <td>48.0</td>\n",
       "      <td>...</td>\n",
       "      <td>53.0</td>\n",
       "      <td>47.0</td>\n",
       "      <td>62.0</td>\n",
       "      <td>63.0</td>\n",
       "      <td>66.0</td>\n",
       "      <td>5.0</td>\n",
       "      <td>10.0</td>\n",
       "      <td>9.0</td>\n",
       "      <td>7.0</td>\n",
       "      <td>7.0</td>\n",
       "    </tr>\n",
       "  </tbody>\n",
       "</table>\n",
       "<p>5 rows × 42 columns</p>\n",
       "</div>"
      ],
      "text/plain": [
       "   id  player_fifa_api_id  player_api_id                 date  overall_rating  \\\n",
       "0   1              218353         505942  2016-02-18 00:00:00            67.0   \n",
       "1   2              218353         505942  2015-11-19 00:00:00            67.0   \n",
       "2   3              218353         505942  2015-09-21 00:00:00            62.0   \n",
       "3   4              218353         505942  2015-03-20 00:00:00            61.0   \n",
       "4   5              218353         505942  2007-02-22 00:00:00            61.0   \n",
       "\n",
       "   potential preferred_foot attacking_work_rate defensive_work_rate  crossing  \\\n",
       "0       71.0          right              medium              medium      49.0   \n",
       "1       71.0          right              medium              medium      49.0   \n",
       "2       66.0          right              medium              medium      49.0   \n",
       "3       65.0          right              medium              medium      48.0   \n",
       "4       65.0          right              medium              medium      48.0   \n",
       "\n",
       "   ...  vision  penalties  marking  standing_tackle  sliding_tackle  \\\n",
       "0  ...    54.0       48.0     65.0             69.0            69.0   \n",
       "1  ...    54.0       48.0     65.0             69.0            69.0   \n",
       "2  ...    54.0       48.0     65.0             66.0            69.0   \n",
       "3  ...    53.0       47.0     62.0             63.0            66.0   \n",
       "4  ...    53.0       47.0     62.0             63.0            66.0   \n",
       "\n",
       "   gk_diving  gk_handling  gk_kicking  gk_positioning  gk_reflexes  \n",
       "0        6.0         11.0        10.0             8.0          8.0  \n",
       "1        6.0         11.0        10.0             8.0          8.0  \n",
       "2        6.0         11.0        10.0             8.0          8.0  \n",
       "3        5.0         10.0         9.0             7.0          7.0  \n",
       "4        5.0         10.0         9.0             7.0          7.0  \n",
       "\n",
       "[5 rows x 42 columns]"
      ]
     },
     "execution_count": 2,
     "metadata": {},
     "output_type": "execute_result"
    }
   ],
   "source": [
    "cnx=sqlite3.connect('database.sqlite')\n",
    "player_data=pd.read_sql_query(\"SELECT * FROM Player_Attributes\",cnx)\n",
    "player_data.head()"
   ]
  },
  {
   "cell_type": "code",
   "execution_count": 3,
   "id": "8966c6cb-1e40-4a85-8c79-5847b09b4cad",
   "metadata": {},
   "outputs": [
    {
     "data": {
      "text/plain": [
       "(183978, 42)"
      ]
     },
     "execution_count": 3,
     "metadata": {},
     "output_type": "execute_result"
    }
   ],
   "source": [
    "player_data.shape"
   ]
  },
  {
   "cell_type": "code",
   "execution_count": 4,
   "id": "38df155c-025e-4bb6-ae5c-ed5b1a4cf327",
   "metadata": {},
   "outputs": [
    {
     "name": "stdout",
     "output_type": "stream",
     "text": [
      "<class 'pandas.core.frame.DataFrame'>\n",
      "RangeIndex: 183978 entries, 0 to 183977\n",
      "Data columns (total 42 columns):\n",
      " #   Column               Non-Null Count   Dtype  \n",
      "---  ------               --------------   -----  \n",
      " 0   id                   183978 non-null  int64  \n",
      " 1   player_fifa_api_id   183978 non-null  int64  \n",
      " 2   player_api_id        183978 non-null  int64  \n",
      " 3   date                 183978 non-null  object \n",
      " 4   overall_rating       183142 non-null  float64\n",
      " 5   potential            183142 non-null  float64\n",
      " 6   preferred_foot       183142 non-null  object \n",
      " 7   attacking_work_rate  180748 non-null  object \n",
      " 8   defensive_work_rate  183142 non-null  object \n",
      " 9   crossing             183142 non-null  float64\n",
      " 10  finishing            183142 non-null  float64\n",
      " 11  heading_accuracy     183142 non-null  float64\n",
      " 12  short_passing        183142 non-null  float64\n",
      " 13  volleys              181265 non-null  float64\n",
      " 14  dribbling            183142 non-null  float64\n",
      " 15  curve                181265 non-null  float64\n",
      " 16  free_kick_accuracy   183142 non-null  float64\n",
      " 17  long_passing         183142 non-null  float64\n",
      " 18  ball_control         183142 non-null  float64\n",
      " 19  acceleration         183142 non-null  float64\n",
      " 20  sprint_speed         183142 non-null  float64\n",
      " 21  agility              181265 non-null  float64\n",
      " 22  reactions            183142 non-null  float64\n",
      " 23  balance              181265 non-null  float64\n",
      " 24  shot_power           183142 non-null  float64\n",
      " 25  jumping              181265 non-null  float64\n",
      " 26  stamina              183142 non-null  float64\n",
      " 27  strength             183142 non-null  float64\n",
      " 28  long_shots           183142 non-null  float64\n",
      " 29  aggression           183142 non-null  float64\n",
      " 30  interceptions        183142 non-null  float64\n",
      " 31  positioning          183142 non-null  float64\n",
      " 32  vision               181265 non-null  float64\n",
      " 33  penalties            183142 non-null  float64\n",
      " 34  marking              183142 non-null  float64\n",
      " 35  standing_tackle      183142 non-null  float64\n",
      " 36  sliding_tackle       181265 non-null  float64\n",
      " 37  gk_diving            183142 non-null  float64\n",
      " 38  gk_handling          183142 non-null  float64\n",
      " 39  gk_kicking           183142 non-null  float64\n",
      " 40  gk_positioning       183142 non-null  float64\n",
      " 41  gk_reflexes          183142 non-null  float64\n",
      "dtypes: float64(35), int64(3), object(4)\n",
      "memory usage: 59.0+ MB\n"
     ]
    }
   ],
   "source": [
    "player_data.info()"
   ]
  },
  {
   "cell_type": "code",
   "execution_count": 5,
   "id": "ab23fa9d-f8e2-4e44-909b-b724e5447e4c",
   "metadata": {},
   "outputs": [
    {
     "name": "stdout",
     "output_type": "stream",
     "text": [
      "['id', 'player_fifa_api_id', 'player_api_id', 'overall_rating', 'potential', 'crossing', 'finishing', 'heading_accuracy', 'short_passing', 'volleys', 'dribbling', 'curve', 'free_kick_accuracy', 'long_passing', 'ball_control', 'acceleration', 'sprint_speed', 'agility', 'reactions', 'balance', 'shot_power', 'jumping', 'stamina', 'strength', 'long_shots', 'aggression', 'interceptions', 'positioning', 'vision', 'penalties', 'marking', 'standing_tackle', 'sliding_tackle', 'gk_diving', 'gk_handling', 'gk_kicking', 'gk_positioning', 'gk_reflexes']\n",
      "['date', 'preferred_foot', 'attacking_work_rate', 'defensive_work_rate']\n"
     ]
    }
   ],
   "source": [
    "numerical_player_data=[feature for feature in player_data.columns if player_data[feature].dtype!='O']\n",
    "print(numerical_player_data)\n",
    "categorical_player_data=[feature for feature in player_data.columns if player_data[feature].dtype=='O']\n",
    "print(categorical_player_data)"
   ]
  },
  {
   "cell_type": "code",
   "execution_count": 6,
   "id": "498c4293-f1c5-4908-ac1b-1773db59d958",
   "metadata": {},
   "outputs": [
    {
     "data": {
      "text/plain": [
       "id                        0\n",
       "player_fifa_api_id        0\n",
       "player_api_id             0\n",
       "date                      0\n",
       "overall_rating          836\n",
       "potential               836\n",
       "preferred_foot          836\n",
       "attacking_work_rate    3230\n",
       "defensive_work_rate     836\n",
       "crossing                836\n",
       "finishing               836\n",
       "heading_accuracy        836\n",
       "short_passing           836\n",
       "volleys                2713\n",
       "dribbling               836\n",
       "curve                  2713\n",
       "free_kick_accuracy      836\n",
       "long_passing            836\n",
       "ball_control            836\n",
       "acceleration            836\n",
       "sprint_speed            836\n",
       "agility                2713\n",
       "reactions               836\n",
       "balance                2713\n",
       "shot_power              836\n",
       "jumping                2713\n",
       "stamina                 836\n",
       "strength                836\n",
       "long_shots              836\n",
       "aggression              836\n",
       "interceptions           836\n",
       "positioning             836\n",
       "vision                 2713\n",
       "penalties               836\n",
       "marking                 836\n",
       "standing_tackle         836\n",
       "sliding_tackle         2713\n",
       "gk_diving               836\n",
       "gk_handling             836\n",
       "gk_kicking              836\n",
       "gk_positioning          836\n",
       "gk_reflexes             836\n",
       "dtype: int64"
      ]
     },
     "execution_count": 6,
     "metadata": {},
     "output_type": "execute_result"
    }
   ],
   "source": [
    "player_data.isnull().sum()"
   ]
  },
  {
   "cell_type": "code",
   "execution_count": 7,
   "id": "eed7c33a-7bf8-4a7b-a862-c13312a56363",
   "metadata": {},
   "outputs": [],
   "source": [
    "player_data.dropna(thresh=5,inplace=True)"
   ]
  },
  {
   "cell_type": "code",
   "execution_count": 8,
   "id": "cce98183-72db-4079-87e0-e5a1db5255c6",
   "metadata": {},
   "outputs": [
    {
     "data": {
      "text/plain": [
       "(183142, 42)"
      ]
     },
     "execution_count": 8,
     "metadata": {},
     "output_type": "execute_result"
    }
   ],
   "source": [
    "player_data.shape"
   ]
  },
  {
   "cell_type": "code",
   "execution_count": 9,
   "id": "ea5572d8-4ced-40e9-b099-d5389e434f3b",
   "metadata": {},
   "outputs": [
    {
     "data": {
      "text/plain": [
       "0         67.0\n",
       "1         67.0\n",
       "2         62.0\n",
       "3         61.0\n",
       "4         61.0\n",
       "          ... \n",
       "183973    83.0\n",
       "183974    78.0\n",
       "183975    77.0\n",
       "183976    78.0\n",
       "183977    80.0\n",
       "Name: overall_rating, Length: 183142, dtype: float64"
      ]
     },
     "execution_count": 9,
     "metadata": {},
     "output_type": "execute_result"
    }
   ],
   "source": [
    "target_data=player_data['overall_rating']\n",
    "target_data"
   ]
  },
  {
   "cell_type": "code",
   "execution_count": 10,
   "id": "f6d22d2b-4a89-4cca-93d2-efd3a415ad85",
   "metadata": {},
   "outputs": [
    {
     "data": {
      "text/html": [
       "<div>\n",
       "<style scoped>\n",
       "    .dataframe tbody tr th:only-of-type {\n",
       "        vertical-align: middle;\n",
       "    }\n",
       "\n",
       "    .dataframe tbody tr th {\n",
       "        vertical-align: top;\n",
       "    }\n",
       "\n",
       "    .dataframe thead th {\n",
       "        text-align: right;\n",
       "    }\n",
       "</style>\n",
       "<table border=\"1\" class=\"dataframe\">\n",
       "  <thead>\n",
       "    <tr style=\"text-align: right;\">\n",
       "      <th></th>\n",
       "      <th>potential</th>\n",
       "      <th>crossing</th>\n",
       "      <th>finishing</th>\n",
       "      <th>heading_accuracy</th>\n",
       "      <th>short_passing</th>\n",
       "      <th>volleys</th>\n",
       "      <th>dribbling</th>\n",
       "      <th>curve</th>\n",
       "      <th>free_kick_accuracy</th>\n",
       "      <th>long_passing</th>\n",
       "      <th>...</th>\n",
       "      <th>standing_tackle</th>\n",
       "      <th>sliding_tackle</th>\n",
       "      <th>gk_diving</th>\n",
       "      <th>gk_handling</th>\n",
       "      <th>gk_kicking</th>\n",
       "      <th>gk_positioning</th>\n",
       "      <th>gk_reflexes</th>\n",
       "      <th>preferred_foot</th>\n",
       "      <th>attacking_work_rate</th>\n",
       "      <th>defensive_work_rate</th>\n",
       "    </tr>\n",
       "  </thead>\n",
       "  <tbody>\n",
       "    <tr>\n",
       "      <th>0</th>\n",
       "      <td>67.600000</td>\n",
       "      <td>48.600000</td>\n",
       "      <td>43.600000</td>\n",
       "      <td>70.600000</td>\n",
       "      <td>60.600000</td>\n",
       "      <td>43.600000</td>\n",
       "      <td>50.600000</td>\n",
       "      <td>44.600000</td>\n",
       "      <td>38.600000</td>\n",
       "      <td>63.600000</td>\n",
       "      <td>...</td>\n",
       "      <td>66.000000</td>\n",
       "      <td>67.800000</td>\n",
       "      <td>5.600000</td>\n",
       "      <td>10.600000</td>\n",
       "      <td>9.600000</td>\n",
       "      <td>7.600000</td>\n",
       "      <td>7.600000</td>\n",
       "      <td>right</td>\n",
       "      <td>medium</td>\n",
       "      <td>medium</td>\n",
       "    </tr>\n",
       "    <tr>\n",
       "      <th>1</th>\n",
       "      <td>74.484848</td>\n",
       "      <td>70.787879</td>\n",
       "      <td>49.454545</td>\n",
       "      <td>52.939394</td>\n",
       "      <td>62.272727</td>\n",
       "      <td>29.151515</td>\n",
       "      <td>61.090909</td>\n",
       "      <td>61.878788</td>\n",
       "      <td>62.121212</td>\n",
       "      <td>63.242424</td>\n",
       "      <td>...</td>\n",
       "      <td>68.787879</td>\n",
       "      <td>71.515152</td>\n",
       "      <td>12.181818</td>\n",
       "      <td>8.666667</td>\n",
       "      <td>14.242424</td>\n",
       "      <td>10.363636</td>\n",
       "      <td>12.909091</td>\n",
       "      <td>left</td>\n",
       "      <td>medium</td>\n",
       "      <td>medium</td>\n",
       "    </tr>\n",
       "    <tr>\n",
       "      <th>2</th>\n",
       "      <td>74.192308</td>\n",
       "      <td>68.115385</td>\n",
       "      <td>57.923077</td>\n",
       "      <td>58.692308</td>\n",
       "      <td>65.115385</td>\n",
       "      <td>54.269231</td>\n",
       "      <td>69.038462</td>\n",
       "      <td>60.192308</td>\n",
       "      <td>55.615385</td>\n",
       "      <td>60.461538</td>\n",
       "      <td>...</td>\n",
       "      <td>21.115385</td>\n",
       "      <td>21.346154</td>\n",
       "      <td>14.038462</td>\n",
       "      <td>11.807692</td>\n",
       "      <td>17.730769</td>\n",
       "      <td>10.115385</td>\n",
       "      <td>13.500000</td>\n",
       "      <td>right</td>\n",
       "      <td>medium</td>\n",
       "      <td>medium</td>\n",
       "    </tr>\n",
       "    <tr>\n",
       "      <th>3</th>\n",
       "      <td>70.782609</td>\n",
       "      <td>57.217391</td>\n",
       "      <td>26.260870</td>\n",
       "      <td>69.260870</td>\n",
       "      <td>64.695652</td>\n",
       "      <td>47.782609</td>\n",
       "      <td>55.565217</td>\n",
       "      <td>37.782609</td>\n",
       "      <td>40.391304</td>\n",
       "      <td>60.826087</td>\n",
       "      <td>...</td>\n",
       "      <td>70.652174</td>\n",
       "      <td>68.043478</td>\n",
       "      <td>14.173913</td>\n",
       "      <td>11.173913</td>\n",
       "      <td>22.869565</td>\n",
       "      <td>11.173913</td>\n",
       "      <td>10.173913</td>\n",
       "      <td>right</td>\n",
       "      <td>medium</td>\n",
       "      <td>medium</td>\n",
       "    </tr>\n",
       "    <tr>\n",
       "      <th>4</th>\n",
       "      <td>74.680000</td>\n",
       "      <td>45.080000</td>\n",
       "      <td>38.840000</td>\n",
       "      <td>73.040000</td>\n",
       "      <td>64.760000</td>\n",
       "      <td>32.080000</td>\n",
       "      <td>50.600000</td>\n",
       "      <td>45.480000</td>\n",
       "      <td>26.360000</td>\n",
       "      <td>56.840000</td>\n",
       "      <td>...</td>\n",
       "      <td>76.040000</td>\n",
       "      <td>74.600000</td>\n",
       "      <td>8.280000</td>\n",
       "      <td>8.320000</td>\n",
       "      <td>24.920000</td>\n",
       "      <td>12.840000</td>\n",
       "      <td>11.920000</td>\n",
       "      <td>right</td>\n",
       "      <td>medium</td>\n",
       "      <td>medium</td>\n",
       "    </tr>\n",
       "    <tr>\n",
       "      <th>...</th>\n",
       "      <td>...</td>\n",
       "      <td>...</td>\n",
       "      <td>...</td>\n",
       "      <td>...</td>\n",
       "      <td>...</td>\n",
       "      <td>...</td>\n",
       "      <td>...</td>\n",
       "      <td>...</td>\n",
       "      <td>...</td>\n",
       "      <td>...</td>\n",
       "      <td>...</td>\n",
       "      <td>...</td>\n",
       "      <td>...</td>\n",
       "      <td>...</td>\n",
       "      <td>...</td>\n",
       "      <td>...</td>\n",
       "      <td>...</td>\n",
       "      <td>...</td>\n",
       "      <td>...</td>\n",
       "      <td>...</td>\n",
       "      <td>...</td>\n",
       "    </tr>\n",
       "    <tr>\n",
       "      <th>11055</th>\n",
       "      <td>75.461538</td>\n",
       "      <td>42.000000</td>\n",
       "      <td>27.000000</td>\n",
       "      <td>75.153846</td>\n",
       "      <td>70.000000</td>\n",
       "      <td>30.000000</td>\n",
       "      <td>56.384615</td>\n",
       "      <td>49.000000</td>\n",
       "      <td>35.692308</td>\n",
       "      <td>54.538462</td>\n",
       "      <td>...</td>\n",
       "      <td>76.307692</td>\n",
       "      <td>72.692308</td>\n",
       "      <td>12.846154</td>\n",
       "      <td>12.769231</td>\n",
       "      <td>25.461538</td>\n",
       "      <td>11.384615</td>\n",
       "      <td>13.615385</td>\n",
       "      <td>right</td>\n",
       "      <td>low</td>\n",
       "      <td>medium</td>\n",
       "    </tr>\n",
       "    <tr>\n",
       "      <th>11056</th>\n",
       "      <td>71.625000</td>\n",
       "      <td>67.250000</td>\n",
       "      <td>46.750000</td>\n",
       "      <td>60.312500</td>\n",
       "      <td>63.125000</td>\n",
       "      <td>54.562500</td>\n",
       "      <td>61.187500</td>\n",
       "      <td>63.812500</td>\n",
       "      <td>61.750000</td>\n",
       "      <td>62.312500</td>\n",
       "      <td>...</td>\n",
       "      <td>65.250000</td>\n",
       "      <td>63.875000</td>\n",
       "      <td>9.000000</td>\n",
       "      <td>8.000000</td>\n",
       "      <td>5.000000</td>\n",
       "      <td>5.000000</td>\n",
       "      <td>8.000000</td>\n",
       "      <td>left</td>\n",
       "      <td>medium</td>\n",
       "      <td>medium</td>\n",
       "    </tr>\n",
       "    <tr>\n",
       "      <th>11057</th>\n",
       "      <td>72.857143</td>\n",
       "      <td>63.142857</td>\n",
       "      <td>44.571429</td>\n",
       "      <td>59.857143</td>\n",
       "      <td>66.857143</td>\n",
       "      <td>57.000000</td>\n",
       "      <td>66.857143</td>\n",
       "      <td>60.000000</td>\n",
       "      <td>52.571429</td>\n",
       "      <td>58.285714</td>\n",
       "      <td>...</td>\n",
       "      <td>64.285714</td>\n",
       "      <td>59.000000</td>\n",
       "      <td>7.142857</td>\n",
       "      <td>18.714286</td>\n",
       "      <td>42.428571</td>\n",
       "      <td>16.714286</td>\n",
       "      <td>16.714286</td>\n",
       "      <td>left</td>\n",
       "      <td>NaN</td>\n",
       "      <td>NaN</td>\n",
       "    </tr>\n",
       "    <tr>\n",
       "      <th>11058</th>\n",
       "      <td>78.125000</td>\n",
       "      <td>46.750000</td>\n",
       "      <td>43.000000</td>\n",
       "      <td>79.000000</td>\n",
       "      <td>58.875000</td>\n",
       "      <td>59.000000</td>\n",
       "      <td>36.000000</td>\n",
       "      <td>29.000000</td>\n",
       "      <td>41.375000</td>\n",
       "      <td>50.625000</td>\n",
       "      <td>...</td>\n",
       "      <td>73.250000</td>\n",
       "      <td>65.000000</td>\n",
       "      <td>14.000000</td>\n",
       "      <td>18.500000</td>\n",
       "      <td>41.625000</td>\n",
       "      <td>19.000000</td>\n",
       "      <td>20.000000</td>\n",
       "      <td>right</td>\n",
       "      <td>NaN</td>\n",
       "      <td>NaN</td>\n",
       "    </tr>\n",
       "    <tr>\n",
       "      <th>11059</th>\n",
       "      <td>81.700000</td>\n",
       "      <td>78.200000</td>\n",
       "      <td>72.600000</td>\n",
       "      <td>57.400000</td>\n",
       "      <td>85.500000</td>\n",
       "      <td>77.000000</td>\n",
       "      <td>83.000000</td>\n",
       "      <td>86.000000</td>\n",
       "      <td>74.200000</td>\n",
       "      <td>79.000000</td>\n",
       "      <td>...</td>\n",
       "      <td>31.200000</td>\n",
       "      <td>30.000000</td>\n",
       "      <td>9.000000</td>\n",
       "      <td>15.400000</td>\n",
       "      <td>42.100000</td>\n",
       "      <td>16.200000</td>\n",
       "      <td>12.000000</td>\n",
       "      <td>right</td>\n",
       "      <td>medium</td>\n",
       "      <td>low</td>\n",
       "    </tr>\n",
       "  </tbody>\n",
       "</table>\n",
       "<p>11060 rows × 37 columns</p>\n",
       "</div>"
      ],
      "text/plain": [
       "       potential   crossing  finishing  heading_accuracy  short_passing  \\\n",
       "0      67.600000  48.600000  43.600000         70.600000      60.600000   \n",
       "1      74.484848  70.787879  49.454545         52.939394      62.272727   \n",
       "2      74.192308  68.115385  57.923077         58.692308      65.115385   \n",
       "3      70.782609  57.217391  26.260870         69.260870      64.695652   \n",
       "4      74.680000  45.080000  38.840000         73.040000      64.760000   \n",
       "...          ...        ...        ...               ...            ...   \n",
       "11055  75.461538  42.000000  27.000000         75.153846      70.000000   \n",
       "11056  71.625000  67.250000  46.750000         60.312500      63.125000   \n",
       "11057  72.857143  63.142857  44.571429         59.857143      66.857143   \n",
       "11058  78.125000  46.750000  43.000000         79.000000      58.875000   \n",
       "11059  81.700000  78.200000  72.600000         57.400000      85.500000   \n",
       "\n",
       "         volleys  dribbling      curve  free_kick_accuracy  long_passing  ...  \\\n",
       "0      43.600000  50.600000  44.600000           38.600000     63.600000  ...   \n",
       "1      29.151515  61.090909  61.878788           62.121212     63.242424  ...   \n",
       "2      54.269231  69.038462  60.192308           55.615385     60.461538  ...   \n",
       "3      47.782609  55.565217  37.782609           40.391304     60.826087  ...   \n",
       "4      32.080000  50.600000  45.480000           26.360000     56.840000  ...   \n",
       "...          ...        ...        ...                 ...           ...  ...   \n",
       "11055  30.000000  56.384615  49.000000           35.692308     54.538462  ...   \n",
       "11056  54.562500  61.187500  63.812500           61.750000     62.312500  ...   \n",
       "11057  57.000000  66.857143  60.000000           52.571429     58.285714  ...   \n",
       "11058  59.000000  36.000000  29.000000           41.375000     50.625000  ...   \n",
       "11059  77.000000  83.000000  86.000000           74.200000     79.000000  ...   \n",
       "\n",
       "       standing_tackle  sliding_tackle  gk_diving  gk_handling  gk_kicking  \\\n",
       "0            66.000000       67.800000   5.600000    10.600000    9.600000   \n",
       "1            68.787879       71.515152  12.181818     8.666667   14.242424   \n",
       "2            21.115385       21.346154  14.038462    11.807692   17.730769   \n",
       "3            70.652174       68.043478  14.173913    11.173913   22.869565   \n",
       "4            76.040000       74.600000   8.280000     8.320000   24.920000   \n",
       "...                ...             ...        ...          ...         ...   \n",
       "11055        76.307692       72.692308  12.846154    12.769231   25.461538   \n",
       "11056        65.250000       63.875000   9.000000     8.000000    5.000000   \n",
       "11057        64.285714       59.000000   7.142857    18.714286   42.428571   \n",
       "11058        73.250000       65.000000  14.000000    18.500000   41.625000   \n",
       "11059        31.200000       30.000000   9.000000    15.400000   42.100000   \n",
       "\n",
       "       gk_positioning  gk_reflexes  preferred_foot  attacking_work_rate  \\\n",
       "0            7.600000     7.600000           right               medium   \n",
       "1           10.363636    12.909091            left               medium   \n",
       "2           10.115385    13.500000           right               medium   \n",
       "3           11.173913    10.173913           right               medium   \n",
       "4           12.840000    11.920000           right               medium   \n",
       "...               ...          ...             ...                  ...   \n",
       "11055       11.384615    13.615385           right                  low   \n",
       "11056        5.000000     8.000000            left               medium   \n",
       "11057       16.714286    16.714286            left                  NaN   \n",
       "11058       19.000000    20.000000           right                  NaN   \n",
       "11059       16.200000    12.000000           right               medium   \n",
       "\n",
       "       defensive_work_rate  \n",
       "0                   medium  \n",
       "1                   medium  \n",
       "2                   medium  \n",
       "3                   medium  \n",
       "4                   medium  \n",
       "...                    ...  \n",
       "11055               medium  \n",
       "11056               medium  \n",
       "11057                  NaN  \n",
       "11058                  NaN  \n",
       "11059                  low  \n",
       "\n",
       "[11060 rows x 37 columns]"
      ]
     },
     "execution_count": 10,
     "metadata": {},
     "output_type": "execute_result"
    }
   ],
   "source": [
    "from Clean_and_Merge import Clean_and_Merge\n",
    "custom_attribute_object=Clean_and_Merge()\n",
    "\n",
    "merged_player_data=custom_attribute_object.fit_transform(player_data)\n",
    "merged_player_data"
   ]
  },
  {
   "cell_type": "code",
   "execution_count": 12,
   "id": "49f727c5-78fc-48f6-81c3-b6664005dda3",
   "metadata": {},
   "outputs": [
    {
     "data": {
      "text/html": [
       "<div>\n",
       "<style scoped>\n",
       "    .dataframe tbody tr th:only-of-type {\n",
       "        vertical-align: middle;\n",
       "    }\n",
       "\n",
       "    .dataframe tbody tr th {\n",
       "        vertical-align: top;\n",
       "    }\n",
       "\n",
       "    .dataframe thead th {\n",
       "        text-align: right;\n",
       "    }\n",
       "</style>\n",
       "<table border=\"1\" class=\"dataframe\">\n",
       "  <thead>\n",
       "    <tr style=\"text-align: right;\">\n",
       "      <th></th>\n",
       "      <th>overall_rating</th>\n",
       "    </tr>\n",
       "  </thead>\n",
       "  <tbody>\n",
       "    <tr>\n",
       "      <th>0</th>\n",
       "      <td>63.600000</td>\n",
       "    </tr>\n",
       "    <tr>\n",
       "      <th>1</th>\n",
       "      <td>66.969697</td>\n",
       "    </tr>\n",
       "    <tr>\n",
       "      <th>2</th>\n",
       "      <td>67.000000</td>\n",
       "    </tr>\n",
       "    <tr>\n",
       "      <th>3</th>\n",
       "      <td>69.086957</td>\n",
       "    </tr>\n",
       "    <tr>\n",
       "      <th>4</th>\n",
       "      <td>73.240000</td>\n",
       "    </tr>\n",
       "    <tr>\n",
       "      <th>...</th>\n",
       "      <td>...</td>\n",
       "    </tr>\n",
       "    <tr>\n",
       "      <th>11055</th>\n",
       "      <td>74.384615</td>\n",
       "    </tr>\n",
       "    <tr>\n",
       "      <th>11056</th>\n",
       "      <td>65.687500</td>\n",
       "    </tr>\n",
       "    <tr>\n",
       "      <th>11057</th>\n",
       "      <td>67.571429</td>\n",
       "    </tr>\n",
       "    <tr>\n",
       "      <th>11058</th>\n",
       "      <td>70.750000</td>\n",
       "    </tr>\n",
       "    <tr>\n",
       "      <th>11059</th>\n",
       "      <td>80.000000</td>\n",
       "    </tr>\n",
       "  </tbody>\n",
       "</table>\n",
       "<p>11060 rows × 1 columns</p>\n",
       "</div>"
      ],
      "text/plain": [
       "       overall_rating\n",
       "0           63.600000\n",
       "1           66.969697\n",
       "2           67.000000\n",
       "3           69.086957\n",
       "4           73.240000\n",
       "...               ...\n",
       "11055       74.384615\n",
       "11056       65.687500\n",
       "11057       67.571429\n",
       "11058       70.750000\n",
       "11059       80.000000\n",
       "\n",
       "[11060 rows x 1 columns]"
      ]
     },
     "execution_count": 12,
     "metadata": {},
     "output_type": "execute_result"
    }
   ],
   "source": [
    "from Clean_Merge_Target import Clean_and_Merge_Target\n",
    "\n",
    "merged_target_object=Clean_and_Merge_Target()\n",
    "merged_target_data=merged_target_object.fit_transform(player_data)\n",
    "merged_target_data"
   ]
  },
  {
   "cell_type": "code",
   "execution_count": 14,
   "id": "02674931-1d08-4db8-93e3-f691e046b3ec",
   "metadata": {},
   "outputs": [],
   "source": [
    "X_train,X_test,Y_train,Y_test=train_test_split(merged_player_data,\n",
    "                                               merged_target_data,\n",
    "                                               test_size=0.25,\n",
    "                                               random_state=101)"
   ]
  },
  {
   "cell_type": "code",
   "execution_count": 15,
   "id": "1dd59699-a0e9-4556-8ed8-28a54e660eb9",
   "metadata": {},
   "outputs": [],
   "source": [
    "from sklearn.pipeline import Pipeline\n",
    "from sklearn.compose import ColumnTransformer\n",
    "from sklearn.preprocessing import StandardScaler\n",
    "from sklearn.preprocessing import OneHotEncoder\n",
    "from sklearn.impute import SimpleImputer"
   ]
  },
  {
   "cell_type": "code",
   "execution_count": 40,
   "id": "0aab11fa-7b16-4b56-8bbc-9bec723c8861",
   "metadata": {},
   "outputs": [],
   "source": [
    "num_pipeline=Pipeline([\n",
    "    ('num_imputer',SimpleImputer(strategy='mean')),\n",
    "    ('num_scaler',StandardScaler())\n",
    "])\n",
    "cat_pipeline=Pipeline([\n",
    "    ('cat_imputer',SimpleImputer(strategy='most_frequent')),\n",
    "    ('cat_encoder',OneHotEncoder(handle_unknown='ignore'))\n",
    "])\n",
    "\n",
    "full_transformer=ColumnTransformer([\n",
    "    ('num_transfromer',num_pipeline,numerical_player_data),\n",
    "    ('cat_transformer',cat_pipeline,categorical_player_data)\n",
    "])\n",
    "\n",
    "target_pipeline=Pipeline([\n",
    "    ('num_imputer',SimpleImputer(strategy='mean',add_indicator=True)),\n",
    "    ('num_scaler',StandardScaler())\n",
    "])"
   ]
  },
  {
   "cell_type": "code",
   "execution_count": 41,
   "id": "d1236967-4924-4b7d-9cbd-ca22b360bf99",
   "metadata": {},
   "outputs": [
    {
     "data": {
      "text/plain": [
       "array([[ 0.10090255,  1.22755154,  0.67110896, ...,  0.        ,\n",
       "         0.        ,  1.        ],\n",
       "       [-1.08743191, -0.42570612,  0.95348586, ...,  0.        ,\n",
       "         0.        ,  1.        ],\n",
       "       [ 0.97050581,  0.82206878,  0.61402092, ...,  0.        ,\n",
       "         0.        ,  1.        ],\n",
       "       ...,\n",
       "       [ 0.61640936, -0.4951807 , -0.94495578, ...,  0.        ,\n",
       "         0.        ,  1.        ],\n",
       "       [ 0.78001385, -0.15933825, -0.54854915, ...,  0.        ,\n",
       "         0.        ,  1.        ],\n",
       "       [ 0.91902661,  0.97092842,  0.74322075, ...,  0.        ,\n",
       "         1.        ,  0.        ]])"
      ]
     },
     "execution_count": 41,
     "metadata": {},
     "output_type": "execute_result"
    }
   ],
   "source": [
    "full_transformed_data=full_transformer.fit_transform(X_train)\n",
    "full_transformed_data"
   ]
  },
  {
   "cell_type": "code",
   "execution_count": 43,
   "id": "a29de0f3-7aca-46f4-b0a8-53c790f9fa43",
   "metadata": {},
   "outputs": [
    {
     "data": {
      "text/plain": [
       "array([[ 0.50504521],\n",
       "       [-0.47663795],\n",
       "       [ 0.81982371],\n",
       "       ...,\n",
       "       [ 1.23550264],\n",
       "       [ 0.31427609],\n",
       "       [ 0.88549179]])"
      ]
     },
     "execution_count": 43,
     "metadata": {},
     "output_type": "execute_result"
    }
   ],
   "source": [
    "full_transformed_target=target_pipeline.fit_transform(pd.DataFrame(Y_train))\n",
    "full_transformed_target"
   ]
  },
  {
   "cell_type": "markdown",
   "id": "f9a8ca80-649c-4fbd-aadc-1d4ef1a888d9",
   "metadata": {},
   "source": [
    "### This function is used to create the filename based upon the date and time"
   ]
  },
  {
   "cell_type": "code",
   "execution_count": 44,
   "id": "70041dc1-15cd-413e-9ff8-79f85f706955",
   "metadata": {},
   "outputs": [],
   "source": [
    "def generate_file_name(filename):\n",
    "    now = datetime.now()\n",
    "    current = now.strftime(\"%d_%m_%Y-%H_%M_%S\")\n",
    "    \n",
    "    return now.strftime(\"%d_%m_%Y-%H_%M_%S\") + '_' + filename "
   ]
  },
  {
   "cell_type": "markdown",
   "id": "49a122ad-1e3c-4da0-a13e-9292abb19527",
   "metadata": {},
   "source": [
    "### Importing libraries to save the trained pipelines upon the data"
   ]
  },
  {
   "cell_type": "code",
   "execution_count": 45,
   "id": "2ab3df95-9706-4002-930e-0e91afda66a7",
   "metadata": {},
   "outputs": [],
   "source": [
    "import joblib\n",
    "import os"
   ]
  },
  {
   "cell_type": "code",
   "execution_count": 46,
   "id": "7055f8e8-2901-47be-ab9c-121cc24ae82f",
   "metadata": {},
   "outputs": [
    {
     "data": {
      "text/plain": [
       "['pipelines\\\\30_08_2024-15_58_22_target_pipeline.pkl']"
      ]
     },
     "execution_count": 46,
     "metadata": {},
     "output_type": "execute_result"
    }
   ],
   "source": [
    "dir_name = 'pipelines'\n",
    "if not os.path.isdir(dir_name):\n",
    "    os.makedirs(dir_name)\n",
    "    \n",
    "    \n",
    "joblib.dump(custom_attribute_object, os.path.join(dir_name, generate_file_name('custom_attribute_object.pkl')))\n",
    "joblib.dump(merged_target_object, os.path.join(dir_name, generate_file_name('merged_target_object.pkl')))    \n",
    "joblib.dump(full_transformer, os.path.join(dir_name, generate_file_name('full_transformer.pkl')))\n",
    "joblib.dump(target_pipeline, os.path.join(dir_name, generate_file_name('target_pipeline.pkl')))"
   ]
  },
  {
   "cell_type": "code",
   "execution_count": 47,
   "id": "2de1bcfa-5e58-4232-bdc1-efa5b1992282",
   "metadata": {},
   "outputs": [
    {
     "data": {
      "text/plain": [
       "(8295, 43)"
      ]
     },
     "execution_count": 47,
     "metadata": {},
     "output_type": "execute_result"
    }
   ],
   "source": [
    "full_transformed_data.shape"
   ]
  },
  {
   "cell_type": "code",
   "execution_count": 48,
   "id": "4c9ad658-418a-4f47-836c-c1739e1aa848",
   "metadata": {},
   "outputs": [
    {
     "data": {
      "text/plain": [
       "(8295, 1)"
      ]
     },
     "execution_count": 48,
     "metadata": {},
     "output_type": "execute_result"
    }
   ],
   "source": [
    "full_transformed_target.shape"
   ]
  },
  {
   "cell_type": "markdown",
   "id": "83f9877a-3e52-4477-b160-128dd7d3c019",
   "metadata": {},
   "source": [
    "### Performing the learning process for multiple models"
   ]
  },
  {
   "cell_type": "code",
   "execution_count": 50,
   "id": "e4093984-165e-4ce5-9b6d-95d33da08dc7",
   "metadata": {},
   "outputs": [],
   "source": [
    "from sklearn.model_selection import cross_val_score"
   ]
  },
  {
   "cell_type": "code",
   "execution_count": 54,
   "id": "1986e202-412f-41ed-b417-5f32495471d8",
   "metadata": {},
   "outputs": [
    {
     "name": "stdout",
     "output_type": "stream",
     "text": [
      "CPU times: total: 391 ms\n",
      "Wall time: 243 ms\n"
     ]
    },
    {
     "data": {
      "text/plain": [
       "array([0.8832075 , 0.85393926, 0.85278637, 0.85950952, 0.86948382,\n",
       "       0.86839887, 0.87430382, 0.87062585, 0.86851204, 0.86427286])"
      ]
     },
     "execution_count": 54,
     "metadata": {},
     "output_type": "execute_result"
    }
   ],
   "source": [
    "%%time\n",
    "lin_reg=LinearRegression()\n",
    "\n",
    "cross_val_score(estimator=lin_reg,X=full_transformed_data,\n",
    "               y=full_transformed_target,cv=10,n_jobs=1)"
   ]
  },
  {
   "cell_type": "code",
   "execution_count": 55,
   "id": "a7e3ac35-d5f1-4ab3-bf89-e9565f00473b",
   "metadata": {},
   "outputs": [
    {
     "name": "stdout",
     "output_type": "stream",
     "text": [
      "CPU times: total: 2.22 s\n",
      "Wall time: 2.27 s\n"
     ]
    },
    {
     "data": {
      "text/plain": [
       "array([0.87150736, 0.83273322, 0.84373402, 0.8729458 , 0.85466211,\n",
       "       0.85579992, 0.87345417, 0.86378091, 0.87297423, 0.86097164])"
      ]
     },
     "execution_count": 55,
     "metadata": {},
     "output_type": "execute_result"
    }
   ],
   "source": [
    "%%time\n",
    "tree_reg=DecisionTreeRegressor()\n",
    "cross_val_score(estimator=tree_reg,X=full_transformed_data,\n",
    "               y=full_transformed_target,cv=10,n_jobs=1)"
   ]
  },
  {
   "cell_type": "code",
   "execution_count": 56,
   "id": "960de73e-ce41-4b2c-a509-28f3f17e66ef",
   "metadata": {},
   "outputs": [
    {
     "name": "stderr",
     "output_type": "stream",
     "text": [
      "C:\\ProgramData\\anaconda3\\Lib\\site-packages\\sklearn\\utils\\validation.py:1143: DataConversionWarning: A column-vector y was passed when a 1d array was expected. Please change the shape of y to (n_samples, ), for example using ravel().\n",
      "  y = column_or_1d(y, warn=True)\n",
      "C:\\ProgramData\\anaconda3\\Lib\\site-packages\\sklearn\\utils\\validation.py:1143: DataConversionWarning: A column-vector y was passed when a 1d array was expected. Please change the shape of y to (n_samples, ), for example using ravel().\n",
      "  y = column_or_1d(y, warn=True)\n",
      "C:\\ProgramData\\anaconda3\\Lib\\site-packages\\sklearn\\utils\\validation.py:1143: DataConversionWarning: A column-vector y was passed when a 1d array was expected. Please change the shape of y to (n_samples, ), for example using ravel().\n",
      "  y = column_or_1d(y, warn=True)\n",
      "C:\\ProgramData\\anaconda3\\Lib\\site-packages\\sklearn\\utils\\validation.py:1143: DataConversionWarning: A column-vector y was passed when a 1d array was expected. Please change the shape of y to (n_samples, ), for example using ravel().\n",
      "  y = column_or_1d(y, warn=True)\n",
      "C:\\ProgramData\\anaconda3\\Lib\\site-packages\\sklearn\\utils\\validation.py:1143: DataConversionWarning: A column-vector y was passed when a 1d array was expected. Please change the shape of y to (n_samples, ), for example using ravel().\n",
      "  y = column_or_1d(y, warn=True)\n",
      "C:\\ProgramData\\anaconda3\\Lib\\site-packages\\sklearn\\utils\\validation.py:1143: DataConversionWarning: A column-vector y was passed when a 1d array was expected. Please change the shape of y to (n_samples, ), for example using ravel().\n",
      "  y = column_or_1d(y, warn=True)\n",
      "C:\\ProgramData\\anaconda3\\Lib\\site-packages\\sklearn\\utils\\validation.py:1143: DataConversionWarning: A column-vector y was passed when a 1d array was expected. Please change the shape of y to (n_samples, ), for example using ravel().\n",
      "  y = column_or_1d(y, warn=True)\n",
      "C:\\ProgramData\\anaconda3\\Lib\\site-packages\\sklearn\\utils\\validation.py:1143: DataConversionWarning: A column-vector y was passed when a 1d array was expected. Please change the shape of y to (n_samples, ), for example using ravel().\n",
      "  y = column_or_1d(y, warn=True)\n",
      "C:\\ProgramData\\anaconda3\\Lib\\site-packages\\sklearn\\utils\\validation.py:1143: DataConversionWarning: A column-vector y was passed when a 1d array was expected. Please change the shape of y to (n_samples, ), for example using ravel().\n",
      "  y = column_or_1d(y, warn=True)\n",
      "C:\\ProgramData\\anaconda3\\Lib\\site-packages\\sklearn\\utils\\validation.py:1143: DataConversionWarning: A column-vector y was passed when a 1d array was expected. Please change the shape of y to (n_samples, ), for example using ravel().\n",
      "  y = column_or_1d(y, warn=True)\n"
     ]
    },
    {
     "name": "stdout",
     "output_type": "stream",
     "text": [
      "CPU times: total: 16.1 s\n",
      "Wall time: 17.1 s\n"
     ]
    },
    {
     "data": {
      "text/plain": [
       "array([0.97979895, 0.97371579, 0.97729247, 0.9732263 , 0.96967114,\n",
       "       0.97856211, 0.97959338, 0.97480097, 0.97823914, 0.97159468])"
      ]
     },
     "execution_count": 56,
     "metadata": {},
     "output_type": "execute_result"
    }
   ],
   "source": [
    "%%time\n",
    "from sklearn.svm import SVR\n",
    "svm_reg=SVR()\n",
    "cross_val_score(estimator=svm_reg,X=full_transformed_data,\n",
    "               y=full_transformed_target,cv=10,n_jobs=1)"
   ]
  },
  {
   "cell_type": "code",
   "execution_count": 57,
   "id": "acce285c-ed93-471b-93db-ae8a9e46f144",
   "metadata": {},
   "outputs": [
    {
     "name": "stdout",
     "output_type": "stream",
     "text": [
      "CPU times: total: 24 s\n",
      "Wall time: 2.21 s\n"
     ]
    },
    {
     "data": {
      "text/plain": [
       "array([0.95969705, 0.95508884, 0.95474635, 0.95063812, 0.95374513,\n",
       "       0.95765224, 0.95863455, 0.95901207, 0.95907248, 0.96085102])"
      ]
     },
     "execution_count": 57,
     "metadata": {},
     "output_type": "execute_result"
    }
   ],
   "source": [
    "%%time\n",
    "from xgboost import XGBRegressor\n",
    "xgb_reg=XGBRegressor()\n",
    "cross_val_score(estimator=xgb_reg,X=full_transformed_data,\n",
    "               y=full_transformed_target,cv=10,n_jobs=1)"
   ]
  },
  {
   "cell_type": "code",
   "execution_count": 58,
   "id": "3995b7b4-fab0-4e5b-be36-f851304d53a3",
   "metadata": {},
   "outputs": [
    {
     "data": {
      "text/plain": [
       "array([[ 1.01426748,  0.72102681,  1.49658359, ...,  0.        ,\n",
       "         1.        ,  0.        ],\n",
       "       [-1.21937101,  0.13257175,  0.28736598, ...,  0.        ,\n",
       "         0.        ,  1.        ],\n",
       "       [ 1.91764261,  1.19837496,  0.04261739, ...,  0.        ,\n",
       "         0.        ,  1.        ],\n",
       "       ...,\n",
       "       [ 1.64737683,  1.16164806,  0.91932586, ...,  1.        ,\n",
       "         0.        ,  0.        ],\n",
       "       [-0.36388125, -0.12847485, -0.32555682, ...,  0.        ,\n",
       "         0.        ,  1.        ],\n",
       "       [ 1.5942889 ,  1.7453745 ,  1.12428583, ...,  0.        ,\n",
       "         0.        ,  1.        ]])"
      ]
     },
     "execution_count": 58,
     "metadata": {},
     "output_type": "execute_result"
    }
   ],
   "source": [
    "test_data=full_transformer.transform(X_test)\n",
    "test_data"
   ]
  },
  {
   "cell_type": "code",
   "execution_count": 59,
   "id": "92534a29-d3ba-4237-89cb-ae5daf7da2f4",
   "metadata": {},
   "outputs": [],
   "source": [
    "best_model_details={}"
   ]
  },
  {
   "cell_type": "markdown",
   "id": "de4d4eb5-0cfc-4db7-b135-86c25542185b",
   "metadata": {},
   "source": [
    "### Computing the errors for all the model to find out the best model"
   ]
  },
  {
   "cell_type": "code",
   "execution_count": 69,
   "id": "8b6d036f-cef0-45bd-8da7-3fd7c5d78a56",
   "metadata": {},
   "outputs": [
    {
     "name": "stdout",
     "output_type": "stream",
     "text": [
      "Error : 0.3614413323357659\n"
     ]
    }
   ],
   "source": [
    "lin_reg.fit(full_transformed_data,full_transformed_target)\n",
    "\n",
    "y_pred=lin_reg.predict(test_data)\n",
    "y_pred.reshape(-1,1)\n",
    "test_target=target_pipeline.transform(pd.DataFrame(Y_test))\n",
    "\n",
    "error=sqrt(mean_squared_error(test_target,y_pred))\n",
    "print(\"Error :\",error)\n",
    "best_model_Details[lin_reg]=error"
   ]
  },
  {
   "cell_type": "code",
   "execution_count": 70,
   "id": "cc60f03f-97bc-448f-b5e4-9cba18160c18",
   "metadata": {},
   "outputs": [
    {
     "name": "stdout",
     "output_type": "stream",
     "text": [
      "Error : 0.3581723445963566\n"
     ]
    }
   ],
   "source": [
    "tree_reg.fit(full_transformed_data,full_transformed_target)\n",
    "\n",
    "y_pred=tree_reg.predict(test_data)\n",
    "y_pred.reshape(-1,1)\n",
    "test_target=target_pipeline.transform(pd.DataFrame(Y_test))\n",
    "\n",
    "error=sqrt(mean_squared_error(test_target,y_pred))\n",
    "print(\"Error :\",error)\n",
    "best_model_Details[tree_reg]=error"
   ]
  },
  {
   "cell_type": "code",
   "execution_count": 72,
   "id": "4372301e-58d8-4766-a9ec-cb6f05d51a86",
   "metadata": {},
   "outputs": [
    {
     "name": "stderr",
     "output_type": "stream",
     "text": [
      "C:\\ProgramData\\anaconda3\\Lib\\site-packages\\sklearn\\utils\\validation.py:1143: DataConversionWarning: A column-vector y was passed when a 1d array was expected. Please change the shape of y to (n_samples, ), for example using ravel().\n",
      "  y = column_or_1d(y, warn=True)\n"
     ]
    },
    {
     "name": "stdout",
     "output_type": "stream",
     "text": [
      "Error : 0.1505948045124886\n"
     ]
    }
   ],
   "source": [
    "svm_reg.fit(X=full_transformed_data,y=full_transformed_target)\n",
    "\n",
    "y_pred=svm_reg.predict(test_data)\n",
    "y_pred.reshape(-1,1)\n",
    "test_target=target_pipeline.transform(pd.DataFrame(Y_test))\n",
    "\n",
    "error=sqrt(mean_squared_error(test_target,y_pred))\n",
    "print(\"Error :\",error)\n",
    "best_model_Details[svm_reg]=error"
   ]
  },
  {
   "cell_type": "code",
   "execution_count": 73,
   "id": "80c7101e-80c6-47aa-8ad2-1b5584407a0f",
   "metadata": {},
   "outputs": [
    {
     "name": "stdout",
     "output_type": "stream",
     "text": [
      "Error : 0.1983389446465487\n"
     ]
    }
   ],
   "source": [
    "xgb_reg.fit(X=full_transformed_data,y=full_transformed_target)\n",
    "\n",
    "y_pred=xgb_reg.predict(test_data)\n",
    "y_pred.reshape(-1,1)\n",
    "test_target=target_pipeline.transform(pd.DataFrame(Y_test))\n",
    "\n",
    "error=sqrt(mean_squared_error(test_target,y_pred))\n",
    "print(\"Error :\",error)\n",
    "best_model_Details[xgb_reg]=error"
   ]
  },
  {
   "cell_type": "code",
   "execution_count": 74,
   "id": "474b1feb-616a-48f0-acf1-468c4e96e334",
   "metadata": {},
   "outputs": [
    {
     "data": {
      "text/plain": [
       "{LinearRegression(): 0.3614413323357659,\n",
       " DecisionTreeRegressor(): 0.3581723445963566,\n",
       " SVR(): 0.1505948045124886,\n",
       " XGBRegressor(base_score=None, booster=None, callbacks=None,\n",
       "              colsample_bylevel=None, colsample_bynode=None,\n",
       "              colsample_bytree=None, device=None, early_stopping_rounds=None,\n",
       "              enable_categorical=False, eval_metric=None, feature_types=None,\n",
       "              gamma=None, grow_policy=None, importance_type=None,\n",
       "              interaction_constraints=None, learning_rate=None, max_bin=None,\n",
       "              max_cat_threshold=None, max_cat_to_onehot=None,\n",
       "              max_delta_step=None, max_depth=None, max_leaves=None,\n",
       "              min_child_weight=None, missing=nan, monotone_constraints=None,\n",
       "              multi_strategy=None, n_estimators=None, n_jobs=None,\n",
       "              num_parallel_tree=None, random_state=None, ...): 0.1983389446465487}"
      ]
     },
     "execution_count": 74,
     "metadata": {},
     "output_type": "execute_result"
    }
   ],
   "source": [
    "best_model_Details"
   ]
  },
  {
   "cell_type": "code",
   "execution_count": 75,
   "id": "70be7354-f85d-4ad1-851c-ea00b239081a",
   "metadata": {},
   "outputs": [],
   "source": [
    "min_value=list(best_model_Details.values())[0]\n",
    "my_model=''"
   ]
  },
  {
   "cell_type": "code",
   "execution_count": 76,
   "id": "fec16aec-0286-4806-a5ed-612b5ae59d41",
   "metadata": {},
   "outputs": [
    {
     "name": "stdout",
     "output_type": "stream",
     "text": [
      "Best performing model: SVR() with error: 0.1983389446465487\n"
     ]
    }
   ],
   "source": [
    "for key,value in best_model_Details.items():\n",
    "    if value<min_value:\n",
    "        min_value=value\n",
    "        my_model=key\n",
    "print(f\"Best performing model: {my_model} with error: {error}\")"
   ]
  },
  {
   "cell_type": "code",
   "execution_count": 77,
   "id": "d4b1b00d-8f2d-42df-85ce-67a195a261cc",
   "metadata": {},
   "outputs": [
    {
     "data": {
      "text/plain": [
       "['models\\\\30_08_2024-16_25_57_best_model.pkl']"
      ]
     },
     "execution_count": 77,
     "metadata": {},
     "output_type": "execute_result"
    }
   ],
   "source": [
    "dir_name = 'models'\n",
    "if not os.path.isdir(dir_name):\n",
    "    os.makedirs(dir_name)\n",
    "    \n",
    "joblib.dump(my_model, os.path.join(dir_name, generate_file_name('best_model.pkl')))"
   ]
  },
  {
   "cell_type": "code",
   "execution_count": null,
   "id": "096c5065-5d33-4b56-b835-dd658e6b3a09",
   "metadata": {},
   "outputs": [],
   "source": []
  }
 ],
 "metadata": {
  "kernelspec": {
   "display_name": "Python 3 (ipykernel)",
   "language": "python",
   "name": "python3"
  },
  "language_info": {
   "codemirror_mode": {
    "name": "ipython",
    "version": 3
   },
   "file_extension": ".py",
   "mimetype": "text/x-python",
   "name": "python",
   "nbconvert_exporter": "python",
   "pygments_lexer": "ipython3",
   "version": "3.11.7"
  }
 },
 "nbformat": 4,
 "nbformat_minor": 5
}
